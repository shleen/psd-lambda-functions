{
  "cells": [
    {
      "cell_type": "markdown",
      "metadata": {},
      "source": [
        "# Context Setting"
      ]
    },
    {
      "cell_type": "markdown",
      "metadata": {},
      "source": [
        "COMPASS C2 (Qualifications criteria) give EP applications 20 points for coming from a \"top tier university\". However, there is a lack of representation for SEA schools (Malaysia, Indonesia, Vietnam, Philipines, China, India) in traditional ranking systems"
      ]
    },
    {
      "cell_type": "markdown",
      "metadata": {},
      "source": [
        "Therefore, the team is creating a new ranking system using Citations, Academic Reputation and Employer Reputation as criterias to better identify reputable universities in SEA."
      ]
    },
    {
      "cell_type": "markdown",
      "metadata": {},
      "source": [
        "Below is an example of webscraping QS rankings using Python and selenium to extract datapoints on citations and reputations"
      ]
    },
    {
      "cell_type": "markdown",
      "metadata": {
        "id": "z892fjdsF-pa"
      },
      "source": [
        "# QS"
      ]
    },
    {
      "cell_type": "markdown",
      "metadata": {
        "id": "HmRGRZwdCcO8"
      },
      "source": [
        "### Setting Up"
      ]
    },
    {
      "cell_type": "code",
      "execution_count": 2,
      "metadata": {
        "id": "Y95I0WGJKq9i"
      },
      "outputs": [
        {
          "name": "stdout",
          "output_type": "stream",
          "text": [
            "Collecting selenium\n",
            "  Downloading selenium-4.10.0-py3-none-any.whl (6.7 MB)\n",
            "\u001b[2K     \u001b[90m━━━━━━━━━━━━━━━━━━━━━━━━━━━━━━━━━━━━━━━━\u001b[0m \u001b[32m6.7/6.7 MB\u001b[0m \u001b[31m6.1 MB/s\u001b[0m eta \u001b[36m0:00:00\u001b[0m00:01\u001b[0m00:01\u001b[0m\n",
            "\u001b[?25hRequirement already satisfied: urllib3[socks]<3,>=1.26 in /opt/homebrew/lib/python3.10/site-packages (from selenium) (1.26.13)\n",
            "Collecting trio~=0.17 (from selenium)\n",
            "  Downloading trio-0.22.2-py3-none-any.whl (400 kB)\n",
            "\u001b[2K     \u001b[90m━━━━━━━━━━━━━━━━━━━━━━━━━━━━━━━━━━━━━━━\u001b[0m \u001b[32m400.2/400.2 kB\u001b[0m \u001b[31m1.2 MB/s\u001b[0m eta \u001b[36m0:00:00\u001b[0ma \u001b[36m0:00:01\u001b[0m\n",
            "\u001b[?25hCollecting trio-websocket~=0.9 (from selenium)\n",
            "  Downloading trio_websocket-0.10.3-py3-none-any.whl (17 kB)\n",
            "Requirement already satisfied: certifi>=2021.10.8 in /opt/homebrew/lib/python3.10/site-packages (from selenium) (2022.12.7)\n",
            "Requirement already satisfied: attrs>=20.1.0 in /Users/vania/Library/Python/3.10/lib/python/site-packages (from trio~=0.17->selenium) (22.2.0)\n",
            "Collecting sortedcontainers (from trio~=0.17->selenium)\n",
            "  Downloading sortedcontainers-2.4.0-py2.py3-none-any.whl (29 kB)\n",
            "Requirement already satisfied: idna in /opt/homebrew/lib/python3.10/site-packages (from trio~=0.17->selenium) (3.4)\n",
            "Collecting outcome (from trio~=0.17->selenium)\n",
            "  Downloading outcome-1.2.0-py2.py3-none-any.whl (9.7 kB)\n",
            "Requirement already satisfied: sniffio in /Users/vania/Library/Python/3.10/lib/python/site-packages (from trio~=0.17->selenium) (1.3.0)\n",
            "Collecting exceptiongroup>=1.0.0rc9 (from trio~=0.17->selenium)\n",
            "  Downloading exceptiongroup-1.1.2-py3-none-any.whl (14 kB)\n",
            "Collecting wsproto>=0.14 (from trio-websocket~=0.9->selenium)\n",
            "  Downloading wsproto-1.2.0-py3-none-any.whl (24 kB)\n",
            "Collecting PySocks!=1.5.7,<2.0,>=1.5.6 (from urllib3[socks]<3,>=1.26->selenium)\n",
            "  Downloading PySocks-1.7.1-py3-none-any.whl (16 kB)\n",
            "Collecting h11<1,>=0.9.0 (from wsproto>=0.14->trio-websocket~=0.9->selenium)\n",
            "  Downloading h11-0.14.0-py3-none-any.whl (58 kB)\n",
            "\u001b[2K     \u001b[90m━━━━━━━━━━━━━━━━━━━━━━━━━━━━━━━━━━━━━━━━\u001b[0m \u001b[32m58.3/58.3 kB\u001b[0m \u001b[31m5.5 MB/s\u001b[0m eta \u001b[36m0:00:00\u001b[0m\n",
            "\u001b[?25hInstalling collected packages: sortedcontainers, PySocks, outcome, h11, exceptiongroup, wsproto, trio, trio-websocket, selenium\n",
            "Successfully installed PySocks-1.7.1 exceptiongroup-1.1.2 h11-0.14.0 outcome-1.2.0 selenium-4.10.0 sortedcontainers-2.4.0 trio-0.22.2 trio-websocket-0.10.3 wsproto-1.2.0\n",
            "\n",
            "\u001b[1m[\u001b[0m\u001b[34;49mnotice\u001b[0m\u001b[1;39;49m]\u001b[0m\u001b[39;49m A new release of pip is available: \u001b[0m\u001b[31;49m23.1.1\u001b[0m\u001b[39;49m -> \u001b[0m\u001b[32;49m23.2.1\u001b[0m\n",
            "\u001b[1m[\u001b[0m\u001b[34;49mnotice\u001b[0m\u001b[1;39;49m]\u001b[0m\u001b[39;49m To update, run: \u001b[0m\u001b[32;49mpython3.10 -m pip install --upgrade pip\u001b[0m\n",
            "Note: you may need to restart the kernel to use updated packages.\n"
          ]
        }
      ],
      "source": [
        "# pip install selenium"
      ]
    },
    {
      "cell_type": "code",
      "execution_count": 7,
      "metadata": {
        "id": "eipIbroP3Ods"
      },
      "outputs": [],
      "source": [
        "# import libraries\n",
        "\n",
        "from selenium import webdriver\n",
        "from selenium.webdriver.common.by import By\n",
        "from selenium.webdriver.common.keys import Keys\n",
        "from selenium.webdriver.support import expected_conditions as EC\n",
        "from selenium.webdriver.support.wait import WebDriverWait\n",
        "from selenium.webdriver.chrome.options import Options\n",
        "from selenium.webdriver.chrome.service import Service\n",
        "from selenium.common.exceptions import NoSuchElementException\n",
        "\n",
        "import time\n",
        "import pandas as pd\n",
        "import pprint\n",
        "import datetime as dt\n",
        "year = dt.datetime.now().year\n",
        "\n",
        "# define wait times for webscrape to run\n",
        "def wait():\n",
        "    time.sleep(3)\n",
        "def long_wait():\n",
        "    time.sleep(5)\n",
        "\n",
        "# click on accept cookies button\n",
        "def close_cookie(driver):\n",
        "    try:\n",
        "        close_btn = driver.find_element(By.XPATH, \"//div[@class='eu-cookie-compliance-buttons']\")\n",
        "        close_btn.click()\n",
        "        wait()\n",
        "    except:\n",
        "        print(\"Cookie button not found\")\n"
      ]
    },
    {
      "cell_type": "code",
      "execution_count": null,
      "metadata": {},
      "outputs": [],
      "source": []
    },
    {
      "cell_type": "code",
      "execution_count": 8,
      "metadata": {
        "id": "fzOLruUU3Odv"
      },
      "outputs": [],
      "source": [
        "# setting up chrome driver (website to scrape)\n",
        "def setup(year):\n",
        "    chrome_options = Options()\n",
        "    chrome_options.add_argument('--no-sandbox')\n",
        "    chrome_options.add_argument('--disable-dev-shm-usage')\n",
        "\n",
        "    prefs = {\"download.default_directory\": \"\"}\n",
        "    chrome_options.add_experimental_option(\"prefs\", prefs)\n",
        "\n",
        "    driver = webdriver.Chrome(options=chrome_options)\n",
        "    driver.get(f\"https://www.topuniversities.com/university-rankings/university-subject-rankings/{year}/computer-science-information-systems?&tab=indicators&sort_by=overallscore&order_by=desc\")\n",
        "    driver.maximize_window()\n",
        "    long_wait()\n",
        "    close_cookie(driver)\n",
        "\n",
        "    # Check if the page contains the \"Coming Soon!\" error message\n",
        "    if 'Coming Soon!' in driver.page_source:\n",
        "        year -= 1\n",
        "        driver.quit()\n",
        "        return setup(year)  # Recursively call setup() with the decremented year\n",
        "\n",
        "    return driver\n"
      ]
    },
    {
      "cell_type": "code",
      "execution_count": 10,
      "metadata": {
        "colab": {
          "base_uri": "https://localhost:8080/",
          "height": 698
        },
        "id": "X2x51qNL3Odv",
        "outputId": "a0472437-3c73-40f0-d0ed-304c9195342a",
        "scrolled": true
      },
      "outputs": [],
      "source": [
        "# button to load more data\n",
        "def click_load_more(driver):\n",
        "    while True:\n",
        "        try:\n",
        "            # Check if the \"No data found\" message is present\n",
        "            time.sleep(5)\n",
        "            no_data_msg = driver.find_element(By.XPATH, \"//div[contains(text(), 'No data found on applied filters')]\")\n",
        "            break  # Stop clicking the \"Load More\" button if the message is found\n",
        "        except NoSuchElementException:\n",
        "            pass\n",
        "\n",
        "        try:\n",
        "            load_more_btn = driver.find_element(By.XPATH, \"//button[contains(@class, 'loadmorebutton') and contains(text(), 'Load More')]\")\n",
        "            driver.execute_script(\"arguments[0].scrollIntoView();\", load_more_btn)\n",
        "            driver.execute_script(\"arguments[0].click();\", load_more_btn)\n",
        "            wait()\n",
        "        except NoSuchElementException:\n",
        "            # If the \"Load More\" button is not found, break the loop\n",
        "            break\n",
        "\n",
        "driver = setup(year)\n",
        "click_load_more(driver)"
      ]
    },
    {
      "cell_type": "code",
      "execution_count": null,
      "metadata": {
        "id": "BxGQQubn3Odw"
      },
      "outputs": [],
      "source": [
        "# button to scroll right on data table to get other criterias\n",
        "def table_click_right(driver):\n",
        "  right_arrow = driver.find_elements(By.XPATH, \"//span[@direction='right']\")\n",
        "  right_arrow[0].click()\n",
        "  wait()\n"
      ]
    },
    {
      "cell_type": "markdown",
      "metadata": {
        "id": "QkCyszxcFnVK"
      },
      "source": [
        "### Extracting Data"
      ]
    },
    {
      "cell_type": "code",
      "execution_count": null,
      "metadata": {
        "id": "eqvSgUPu3Odw"
      },
      "outputs": [],
      "source": [
        "# gets full table of data through the class name\n",
        "data = driver.find_elements(By.XPATH, \"//*[@class='td-wrap-in']\")\n",
        "# for i in range(len(data)):\n",
        "#     print(i, data[i].text)"
      ]
    },
    {
      "cell_type": "code",
      "execution_count": null,
      "metadata": {
        "id": "yqFNxlrI3Odx"
      },
      "outputs": [],
      "source": [
        "# get school names\n",
        "schools_data = list()\n",
        "for i in range(1, len(data), 8):\n",
        "    schools_data.append(data[i].text)\n",
        "# schools_data"
      ]
    },
    {
      "cell_type": "code",
      "execution_count": null,
      "metadata": {
        "id": "c937_ixy3Odx"
      },
      "outputs": [],
      "source": [
        "# scroll right of table to get more criterias\n",
        "table_click_right(driver)"
      ]
    },
    {
      "cell_type": "code",
      "execution_count": null,
      "metadata": {
        "id": "bQH73AFD3Ody"
      },
      "outputs": [],
      "source": [
        "# get Academic Reputation scores\n",
        "AR_data = list()\n",
        "for i in range(3, len(data), 8):\n",
        "    AR_data.append(data[i].text)\n",
        "# AR_data"
      ]
    },
    {
      "cell_type": "code",
      "execution_count": null,
      "metadata": {
        "id": "iDMhHbCf3Ody"
      },
      "outputs": [],
      "source": [
        "# get Employer Reputation scores\n",
        "ER_data = list()\n",
        "for i in range(4, len(data), 8):\n",
        "    ER_data.append(data[i].text)\n",
        "# ER_data"
      ]
    },
    {
      "cell_type": "code",
      "execution_count": null,
      "metadata": {
        "id": "V0zmRPTR3Ody"
      },
      "outputs": [],
      "source": [
        "# get Citations scores\n",
        "citations_data = list()\n",
        "for i in range(5, len(data), 8):\n",
        "    citations_data.append(data[i].text)\n",
        "# citations_data"
      ]
    },
    {
      "cell_type": "code",
      "execution_count": null,
      "metadata": {
        "id": "u98XxFi93Od1"
      },
      "outputs": [],
      "source": [
        "# get locations of schools\n",
        "def extract_location(driver):\n",
        "    locations = driver.find_elements(By.XPATH, \"//div[contains(@class, 'location')]\")\n",
        "    location_data = []\n",
        "    for location in locations:\n",
        "        location_text = location.text.strip()\n",
        "        if location_text:\n",
        "            location_data.append(location_text)\n",
        "    return location_data\n",
        "\n",
        "location_data = extract_location(driver)\n",
        "# print(location_data)"
      ]
    },
    {
      "cell_type": "markdown",
      "metadata": {
        "id": "WLIZFKPpEDQs"
      },
      "source": [
        "### Creating Dataframe"
      ]
    },
    {
      "cell_type": "code",
      "execution_count": null,
      "metadata": {
        "id": "nBAi249jEGo2"
      },
      "outputs": [],
      "source": [
        "df_columns = [\"Country\", \"University\", \"QS Citations per Paper\"]\n",
        "df = pd.DataFrame(columns=df_columns)\n",
        "\n",
        "time.sleep(20)"
      ]
    },
    {
      "cell_type": "code",
      "execution_count": null,
      "metadata": {
        "id": "TlvONKaa3Od2"
      },
      "outputs": [],
      "source": [
        "# populating data into dataframe\n",
        "df[\"Country\"] = location_data\n",
        "df[\"University\"] = schools_data\n",
        "df[\"QS Citations per Paper\"] = citations_data\n",
        "df[\"QS Academic Reputation\"] = AR_data\n",
        "df[\"QS Employer Reputation\"] = ER_data"
      ]
    },
    {
      "cell_type": "code",
      "execution_count": null,
      "metadata": {
        "id": "TQw_mJOz3Od2"
      },
      "outputs": [],
      "source": [
        "# final dataframe\n",
        "# df"
      ]
    },
    {
      "cell_type": "code",
      "execution_count": null,
      "metadata": {
        "id": "5inSWLZB3Od2"
      },
      "outputs": [],
      "source": [
        "city_list = []\n",
        "country_list = []\n",
        "\n",
        "for location in location_data:\n",
        "    # Check if the location contains a comma\n",
        "    if ',' in location:\n",
        "        # Split the string at the comma\n",
        "        split_location = location.split(',')\n",
        "\n",
        "        # Remove leading and trailing whitespaces from the city and country\n",
        "        city = split_location[0].strip()\n",
        "        country = split_location[1].strip()\n",
        "\n",
        "        city_list.append(city)\n",
        "        country_list.append(country)\n",
        "    else:\n",
        "        city_list.append(location)\n",
        "        country_list.append(None)\n",
        "# print(city_list)\n",
        "# print(country_list)"
      ]
    },
    {
      "cell_type": "code",
      "execution_count": null,
      "metadata": {
        "id": "OYG9RPc33Od2"
      },
      "outputs": [],
      "source": [
        "# Replace the values in the \"Country\" column\n",
        "df['Country'] = df['Country'].replace(\"China\", \"China (Mainland)\")\n",
        "df['Country'] = country_list\n",
        "df = df[['University','Country', \"QS Citations per Paper\",\n",
        "         \"QS Academic Reputation\", \"QS Employer Reputation\"]]\n",
        "df_qs = df"
      ]
    },
    {
      "cell_type": "code",
      "execution_count": null,
      "metadata": {
        "id": "eTpA96vr3Od3"
      },
      "outputs": [],
      "source": [
        "df_qs.to_excel('QS.xlsx')"
      ]
    }
  ],
  "metadata": {
    "colab": {
      "provenance": []
    },
    "kernelspec": {
      "display_name": "Python 3.10.9 64-bit",
      "language": "python",
      "name": "python3"
    },
    "language_info": {
      "codemirror_mode": {
        "name": "ipython",
        "version": 3
      },
      "file_extension": ".py",
      "mimetype": "text/x-python",
      "name": "python",
      "nbconvert_exporter": "python",
      "pygments_lexer": "ipython3",
      "version": "3.10.9"
    },
    "vscode": {
      "interpreter": {
        "hash": "b0fa6594d8f4cbf19f97940f81e996739fb7646882a419484c72d19e05852a7e"
      }
    }
  },
  "nbformat": 4,
  "nbformat_minor": 0
}
