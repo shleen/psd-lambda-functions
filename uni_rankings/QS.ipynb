{
  "cells": [
    {
      "cell_type": "markdown",
      "metadata": {},
      "source": [
        "# Context Setting"
      ]
    },
    {
      "cell_type": "markdown",
      "metadata": {},
      "source": [
        "COMPASS C2 (Qualifications criteria) give EP applications 20 points for coming from a \"top tier university\". However, there is a lack of representation for SEA schools (Malaysia, Indonesia, Vietnam, Philipines, China, India) in traditional ranking systems"
      ]
    },
    {
      "cell_type": "markdown",
      "metadata": {},
      "source": [
        "Therefore, the team is creating a new ranking system using Citations, Academic Reputation and Employer Reputation as criterias to better identify reputable universities in SEA."
      ]
    },
    {
      "cell_type": "markdown",
      "metadata": {},
      "source": [
        "Below is an example of webscraping QS rankings using Python and selenium to extract datapoints on citations and reputations"
      ]
    },
    {
      "cell_type": "markdown",
      "metadata": {
        "id": "z892fjdsF-pa"
      },
      "source": [
        "# QS"
      ]
    },
    {
      "cell_type": "markdown",
      "metadata": {
        "id": "HmRGRZwdCcO8"
      },
      "source": [
        "### Setting Up"
      ]
    },
    {
      "cell_type": "code",
      "execution_count": 1,
      "metadata": {
        "id": "Y95I0WGJKq9i"
      },
      "outputs": [],
      "source": [
        "# pip install selenium"
      ]
    },
    {
      "cell_type": "code",
      "execution_count": 2,
      "metadata": {
        "id": "eipIbroP3Ods"
      },
      "outputs": [],
      "source": [
        "# import libraries\n",
        "\n",
        "from selenium import webdriver\n",
        "from selenium.webdriver.common.by import By\n",
        "from selenium.webdriver.common.keys import Keys\n",
        "from selenium.webdriver.support import expected_conditions as EC\n",
        "from selenium.webdriver.support.wait import WebDriverWait\n",
        "from selenium.webdriver.chrome.options import Options\n",
        "from selenium.webdriver.chrome.service import Service\n",
        "from selenium.common.exceptions import NoSuchElementException\n",
        "\n",
        "import time\n",
        "import pandas as pd\n",
        "import pprint\n",
        "import datetime as dt\n",
        "year = dt.datetime.now().year\n",
        "\n",
        "# define wait times for webscrape to run\n",
        "def wait():\n",
        "    time.sleep(3)\n",
        "def long_wait():\n",
        "    time.sleep(5)\n",
        "\n",
        "# click on accept cookies button\n",
        "def close_cookie(driver):\n",
        "    try:\n",
        "        close_btn = driver.find_element(By.XPATH, \"//div[@class='eu-cookie-compliance-buttons']\")\n",
        "        close_btn.click()\n",
        "        wait()\n",
        "    except:\n",
        "        print(\"Cookie button not found\")\n"
      ]
    },
    {
      "cell_type": "code",
      "execution_count": 3,
      "metadata": {
        "id": "fzOLruUU3Odv"
      },
      "outputs": [],
      "source": [
        "# setting up chrome driver (website to scrape)\n",
        "def setup(year):\n",
        "    chrome_options = Options()\n",
        "    chrome_options.add_argument('--no-sandbox')\n",
        "    chrome_options.add_argument('--disable-dev-shm-usage')\n",
        "\n",
        "    prefs = {\"download.default_directory\": \"\"}\n",
        "    chrome_options.add_experimental_option(\"prefs\", prefs)\n",
        "\n",
        "    driver = webdriver.Chrome(options=chrome_options)\n",
        "    driver.get(f\"https://www.topuniversities.com/university-rankings/university-subject-rankings/{year}/computer-science-information-systems?&tab=indicators&sort_by=overallscore&order_by=desc\")\n",
        "    driver.maximize_window()\n",
        "    long_wait()\n",
        "    close_cookie(driver)\n",
        "\n",
        "    # Check if the page contains the \"Coming Soon!\" error message\n",
        "    if 'Coming Soon!' in driver.page_source:\n",
        "        year -= 1\n",
        "        driver.quit()\n",
        "        return setup(year)  # Recursively call setup() with the decremented year\n",
        "\n",
        "    return driver\n"
      ]
    },
    {
      "cell_type": "code",
      "execution_count": 4,
      "metadata": {
        "colab": {
          "base_uri": "https://localhost:8080/",
          "height": 698
        },
        "id": "X2x51qNL3Odv",
        "outputId": "a0472437-3c73-40f0-d0ed-304c9195342a",
        "scrolled": true
      },
      "outputs": [],
      "source": [
        "# button to load more data\n",
        "def click_load_more(driver):\n",
        "    while True:\n",
        "        try:\n",
        "            # Check if the \"No data found\" message is present\n",
        "            time.sleep(5)\n",
        "            no_data_msg = driver.find_element(By.XPATH, \"//div[contains(text(), 'No data found on applied filters')]\")\n",
        "            break  # Stop clicking the \"Load More\" button if the message is found\n",
        "        except NoSuchElementException:\n",
        "            pass\n",
        "\n",
        "        try:\n",
        "            load_more_btn = driver.find_element(By.XPATH, \"//button[contains(@class, 'loadmorebutton') and contains(text(), 'Load More')]\")\n",
        "            driver.execute_script(\"arguments[0].scrollIntoView();\", load_more_btn)\n",
        "            driver.execute_script(\"arguments[0].click();\", load_more_btn)\n",
        "            wait()\n",
        "        except NoSuchElementException:\n",
        "            # If the \"Load More\" button is not found, break the loop\n",
        "            break\n",
        "\n",
        "driver = setup(year)\n",
        "click_load_more(driver)"
      ]
    },
    {
      "cell_type": "code",
      "execution_count": 5,
      "metadata": {
        "id": "BxGQQubn3Odw"
      },
      "outputs": [],
      "source": [
        "# button to scroll right on data table to get other criterias\n",
        "def table_click_right(driver):\n",
        "  right_arrow = driver.find_elements(By.XPATH, \"//span[@direction='right']\")\n",
        "  right_arrow[0].click()\n",
        "  wait()\n"
      ]
    },
    {
      "cell_type": "markdown",
      "metadata": {
        "id": "QkCyszxcFnVK"
      },
      "source": [
        "### Extracting Data"
      ]
    },
    {
      "cell_type": "code",
      "execution_count": 6,
      "metadata": {
        "id": "eqvSgUPu3Odw"
      },
      "outputs": [],
      "source": [
        "# gets full table of data through the class name\n",
        "data = driver.find_elements(By.XPATH, \"//*[@class='td-wrap-in']\")\n",
        "# for i in range(len(data)):\n",
        "#     print(i, data[i].text)"
      ]
    },
    {
      "cell_type": "code",
      "execution_count": 7,
      "metadata": {
        "id": "yqFNxlrI3Odx"
      },
      "outputs": [],
      "source": [
        "# get school names\n",
        "schools_data = list()\n",
        "for i in range(1, len(data), 8):\n",
        "    schools_data.append(data[i].text)\n",
        "# schools_data"
      ]
    },
    {
      "cell_type": "code",
      "execution_count": 8,
      "metadata": {
        "id": "c937_ixy3Odx"
      },
      "outputs": [],
      "source": [
        "# scroll right of table to get more criterias\n",
        "table_click_right(driver)"
      ]
    },
    {
      "cell_type": "code",
      "execution_count": 9,
      "metadata": {
        "id": "bQH73AFD3Ody"
      },
      "outputs": [],
      "source": [
        "# get Academic Reputation scores\n",
        "AR_data = list()\n",
        "for i in range(3, len(data), 8):\n",
        "    AR_data.append(data[i].text)\n",
        "# AR_data"
      ]
    },
    {
      "cell_type": "code",
      "execution_count": 10,
      "metadata": {
        "id": "iDMhHbCf3Ody"
      },
      "outputs": [],
      "source": [
        "# get Employer Reputation scores\n",
        "ER_data = list()\n",
        "for i in range(4, len(data), 8):\n",
        "    ER_data.append(data[i].text)\n",
        "# ER_data"
      ]
    },
    {
      "cell_type": "code",
      "execution_count": 11,
      "metadata": {
        "id": "V0zmRPTR3Ody"
      },
      "outputs": [],
      "source": [
        "# get Citations scores\n",
        "citations_data = list()\n",
        "for i in range(5, len(data), 8):\n",
        "    citations_data.append(data[i].text)\n",
        "# citations_data"
      ]
    },
    {
      "cell_type": "code",
      "execution_count": 12,
      "metadata": {
        "id": "u98XxFi93Od1"
      },
      "outputs": [],
      "source": [
        "# get locations of schools\n",
        "def extract_location(driver):\n",
        "    locations = driver.find_elements(By.XPATH, \"//div[contains(@class, 'location')]\")\n",
        "    location_data = []\n",
        "    for location in locations:\n",
        "        location_text = location.text.strip()\n",
        "        if location_text:\n",
        "            location_data.append(location_text)\n",
        "    return location_data\n",
        "\n",
        "location_data = extract_location(driver)\n",
        "# print(location_data)"
      ]
    },
    {
      "cell_type": "markdown",
      "metadata": {
        "id": "WLIZFKPpEDQs"
      },
      "source": [
        "### Creating Dataframe"
      ]
    },
    {
      "cell_type": "code",
      "execution_count": 13,
      "metadata": {
        "id": "nBAi249jEGo2"
      },
      "outputs": [],
      "source": [
        "df_columns = [\"Country\", \"University\", \"QS Citations per Paper\"]\n",
        "df = pd.DataFrame(columns=df_columns)\n",
        "\n",
        "time.sleep(20)"
      ]
    },
    {
      "cell_type": "code",
      "execution_count": 14,
      "metadata": {
        "id": "TlvONKaa3Od2"
      },
      "outputs": [],
      "source": [
        "# populating data into dataframe\n",
        "df[\"Country\"] = location_data\n",
        "df[\"University\"] = schools_data\n",
        "df[\"QS Citations per Paper\"] = citations_data\n",
        "df[\"QS Academic Reputation\"] = AR_data\n",
        "df[\"QS Employer Reputation\"] = ER_data"
      ]
    },
    {
      "cell_type": "code",
      "execution_count": 15,
      "metadata": {
        "id": "TQw_mJOz3Od2"
      },
      "outputs": [],
      "source": [
        "# final dataframe\n",
        "# df"
      ]
    },
    {
      "cell_type": "code",
      "execution_count": 16,
      "metadata": {
        "id": "5inSWLZB3Od2"
      },
      "outputs": [],
      "source": [
        "city_list = []\n",
        "country_list = []\n",
        "\n",
        "for location in location_data:\n",
        "    # Check if the location contains a comma\n",
        "    if ',' in location:\n",
        "        # Split the string at the comma\n",
        "        split_location = location.split(',')\n",
        "\n",
        "        # Remove leading and trailing whitespaces from the city and country\n",
        "        city = split_location[0].strip()\n",
        "        country = split_location[1].strip()\n",
        "\n",
        "        city_list.append(city)\n",
        "        country_list.append(country)\n",
        "    else:\n",
        "        city_list.append(location)\n",
        "        country_list.append(None)\n",
        "# print(city_list)\n",
        "# print(country_list)"
      ]
    },
    {
      "cell_type": "code",
      "execution_count": 17,
      "metadata": {
        "id": "OYG9RPc33Od2"
      },
      "outputs": [],
      "source": [
        "# Replace the values in the \"Country\" column\n",
        "df['Country'] = df['Country'].replace(\"China\", \"China (Mainland)\")\n",
        "df['Country'] = country_list\n",
        "df = df[['University','Country', \"QS Citations per Paper\",\n",
        "         \"QS Academic Reputation\", \"QS Employer Reputation\"]]\n",
        "df_qs = df"
      ]
    },
    {
      "cell_type": "code",
      "execution_count": 19,
      "metadata": {},
      "outputs": [
        {
          "data": {
            "text/html": [
              "<div>\n",
              "<style scoped>\n",
              "    .dataframe tbody tr th:only-of-type {\n",
              "        vertical-align: middle;\n",
              "    }\n",
              "\n",
              "    .dataframe tbody tr th {\n",
              "        vertical-align: top;\n",
              "    }\n",
              "\n",
              "    .dataframe thead th {\n",
              "        text-align: right;\n",
              "    }\n",
              "</style>\n",
              "<table border=\"1\" class=\"dataframe\">\n",
              "  <thead>\n",
              "    <tr style=\"text-align: right;\">\n",
              "      <th></th>\n",
              "      <th>University</th>\n",
              "      <th>Country</th>\n",
              "      <th>QS Citations per Paper</th>\n",
              "      <th>QS Academic Reputation</th>\n",
              "      <th>QS Employer Reputation</th>\n",
              "    </tr>\n",
              "  </thead>\n",
              "  <tbody>\n",
              "    <tr>\n",
              "      <th>0</th>\n",
              "      <td>Massachusetts Institute of Technology (MIT)</td>\n",
              "      <td>United States</td>\n",
              "      <td>93.7</td>\n",
              "      <td>91</td>\n",
              "      <td>98.2</td>\n",
              "    </tr>\n",
              "    <tr>\n",
              "      <th>1</th>\n",
              "      <td>Carnegie Mellon University</td>\n",
              "      <td>United States</td>\n",
              "      <td>95.3</td>\n",
              "      <td>100</td>\n",
              "      <td>82.3</td>\n",
              "    </tr>\n",
              "    <tr>\n",
              "      <th>2</th>\n",
              "      <td>Stanford University</td>\n",
              "      <td>United States</td>\n",
              "      <td>99.9</td>\n",
              "      <td>88.5</td>\n",
              "      <td>96.3</td>\n",
              "    </tr>\n",
              "    <tr>\n",
              "      <th>3</th>\n",
              "      <td>University of California, Berkeley (UCB)</td>\n",
              "      <td>United States</td>\n",
              "      <td>100</td>\n",
              "      <td>85.4</td>\n",
              "      <td>90</td>\n",
              "    </tr>\n",
              "    <tr>\n",
              "      <th>4</th>\n",
              "      <td>University of Oxford</td>\n",
              "      <td>United Kingdom</td>\n",
              "      <td>94.2</td>\n",
              "      <td>82.1</td>\n",
              "      <td>96.7</td>\n",
              "    </tr>\n",
              "    <tr>\n",
              "      <th>...</th>\n",
              "      <td>...</td>\n",
              "      <td>...</td>\n",
              "      <td>...</td>\n",
              "      <td>...</td>\n",
              "      <td>...</td>\n",
              "    </tr>\n",
              "    <tr>\n",
              "      <th>681</th>\n",
              "      <td>Pontifícia Universidade Católica do Rio Grande...</td>\n",
              "      <td>Brazil</td>\n",
              "      <td>61.2</td>\n",
              "      <td>41.3</td>\n",
              "      <td>52.5</td>\n",
              "    </tr>\n",
              "    <tr>\n",
              "      <th>682</th>\n",
              "      <td>Technical University of Crete</td>\n",
              "      <td>Greece</td>\n",
              "      <td>65.1</td>\n",
              "      <td>44</td>\n",
              "      <td>45.1</td>\n",
              "    </tr>\n",
              "    <tr>\n",
              "      <th>683</th>\n",
              "      <td>University of Klagenfurt</td>\n",
              "      <td>Austria</td>\n",
              "      <td>70.9</td>\n",
              "      <td>46</td>\n",
              "      <td>37.7</td>\n",
              "    </tr>\n",
              "    <tr>\n",
              "      <th>684</th>\n",
              "      <td>Université Lumière Lyon 2</td>\n",
              "      <td>France</td>\n",
              "      <td>74.2</td>\n",
              "      <td>42.2</td>\n",
              "      <td>37</td>\n",
              "    </tr>\n",
              "    <tr>\n",
              "      <th>685</th>\n",
              "      <td>Université Paris 13 Nord</td>\n",
              "      <td>France</td>\n",
              "      <td>67.9</td>\n",
              "      <td>37.8</td>\n",
              "      <td>46.8</td>\n",
              "    </tr>\n",
              "  </tbody>\n",
              "</table>\n",
              "<p>686 rows × 5 columns</p>\n",
              "</div>"
            ],
            "text/plain": [
              "                                            University         Country  \\\n",
              "0          Massachusetts Institute of Technology (MIT)   United States   \n",
              "1                           Carnegie Mellon University   United States   \n",
              "2                                  Stanford University   United States   \n",
              "3             University of California, Berkeley (UCB)   United States   \n",
              "4                                 University of Oxford  United Kingdom   \n",
              "..                                                 ...             ...   \n",
              "681  Pontifícia Universidade Católica do Rio Grande...          Brazil   \n",
              "682                      Technical University of Crete          Greece   \n",
              "683                           University of Klagenfurt         Austria   \n",
              "684                          Université Lumière Lyon 2          France   \n",
              "685                           Université Paris 13 Nord          France   \n",
              "\n",
              "    QS Citations per Paper QS Academic Reputation QS Employer Reputation  \n",
              "0                     93.7                     91                   98.2  \n",
              "1                     95.3                    100                   82.3  \n",
              "2                     99.9                   88.5                   96.3  \n",
              "3                      100                   85.4                     90  \n",
              "4                     94.2                   82.1                   96.7  \n",
              "..                     ...                    ...                    ...  \n",
              "681                   61.2                   41.3                   52.5  \n",
              "682                   65.1                     44                   45.1  \n",
              "683                   70.9                     46                   37.7  \n",
              "684                   74.2                   42.2                     37  \n",
              "685                   67.9                   37.8                   46.8  \n",
              "\n",
              "[686 rows x 5 columns]"
            ]
          },
          "execution_count": 19,
          "metadata": {},
          "output_type": "execute_result"
        }
      ],
      "source": [
        "df_qs"
      ]
    },
    {
      "cell_type": "code",
      "execution_count": 18,
      "metadata": {
        "id": "eTpA96vr3Od3"
      },
      "outputs": [
        {
          "ename": "ModuleNotFoundError",
          "evalue": "No module named 'openpyxl'",
          "output_type": "error",
          "traceback": [
            "\u001b[1;31m---------------------------------------------------------------------------\u001b[0m",
            "\u001b[1;31mModuleNotFoundError\u001b[0m                       Traceback (most recent call last)",
            "Cell \u001b[1;32mIn[18], line 1\u001b[0m\n\u001b[1;32m----> 1\u001b[0m df_qs\u001b[39m.\u001b[39;49mto_excel(\u001b[39m'\u001b[39;49m\u001b[39mQS.xlsx\u001b[39;49m\u001b[39m'\u001b[39;49m)\n",
            "File \u001b[1;32m~\\AppData\\Roaming\\Python\\Python38\\site-packages\\pandas\\core\\generic.py:2252\u001b[0m, in \u001b[0;36mNDFrame.to_excel\u001b[1;34m(self, excel_writer, sheet_name, na_rep, float_format, columns, header, index, index_label, startrow, startcol, engine, merge_cells, inf_rep, freeze_panes, storage_options)\u001b[0m\n\u001b[0;32m   2239\u001b[0m \u001b[39mfrom\u001b[39;00m \u001b[39mpandas\u001b[39;00m\u001b[39m.\u001b[39;00m\u001b[39mio\u001b[39;00m\u001b[39m.\u001b[39;00m\u001b[39mformats\u001b[39;00m\u001b[39m.\u001b[39;00m\u001b[39mexcel\u001b[39;00m \u001b[39mimport\u001b[39;00m ExcelFormatter\n\u001b[0;32m   2241\u001b[0m formatter \u001b[39m=\u001b[39m ExcelFormatter(\n\u001b[0;32m   2242\u001b[0m     df,\n\u001b[0;32m   2243\u001b[0m     na_rep\u001b[39m=\u001b[39mna_rep,\n\u001b[1;32m   (...)\u001b[0m\n\u001b[0;32m   2250\u001b[0m     inf_rep\u001b[39m=\u001b[39minf_rep,\n\u001b[0;32m   2251\u001b[0m )\n\u001b[1;32m-> 2252\u001b[0m formatter\u001b[39m.\u001b[39;49mwrite(\n\u001b[0;32m   2253\u001b[0m     excel_writer,\n\u001b[0;32m   2254\u001b[0m     sheet_name\u001b[39m=\u001b[39;49msheet_name,\n\u001b[0;32m   2255\u001b[0m     startrow\u001b[39m=\u001b[39;49mstartrow,\n\u001b[0;32m   2256\u001b[0m     startcol\u001b[39m=\u001b[39;49mstartcol,\n\u001b[0;32m   2257\u001b[0m     freeze_panes\u001b[39m=\u001b[39;49mfreeze_panes,\n\u001b[0;32m   2258\u001b[0m     engine\u001b[39m=\u001b[39;49mengine,\n\u001b[0;32m   2259\u001b[0m     storage_options\u001b[39m=\u001b[39;49mstorage_options,\n\u001b[0;32m   2260\u001b[0m )\n",
            "File \u001b[1;32m~\\AppData\\Roaming\\Python\\Python38\\site-packages\\pandas\\io\\formats\\excel.py:934\u001b[0m, in \u001b[0;36mExcelFormatter.write\u001b[1;34m(self, writer, sheet_name, startrow, startcol, freeze_panes, engine, storage_options)\u001b[0m\n\u001b[0;32m    930\u001b[0m     need_save \u001b[39m=\u001b[39m \u001b[39mFalse\u001b[39;00m\n\u001b[0;32m    931\u001b[0m \u001b[39melse\u001b[39;00m:\n\u001b[0;32m    932\u001b[0m     \u001b[39m# error: Cannot instantiate abstract class 'ExcelWriter' with abstract\u001b[39;00m\n\u001b[0;32m    933\u001b[0m     \u001b[39m# attributes 'engine', 'save', 'supported_extensions' and 'write_cells'\u001b[39;00m\n\u001b[1;32m--> 934\u001b[0m     writer \u001b[39m=\u001b[39m ExcelWriter(  \u001b[39m# type: ignore[abstract]\u001b[39;49;00m\n\u001b[0;32m    935\u001b[0m         writer, engine\u001b[39m=\u001b[39;49mengine, storage_options\u001b[39m=\u001b[39;49mstorage_options\n\u001b[0;32m    936\u001b[0m     )\n\u001b[0;32m    937\u001b[0m     need_save \u001b[39m=\u001b[39m \u001b[39mTrue\u001b[39;00m\n\u001b[0;32m    939\u001b[0m \u001b[39mtry\u001b[39;00m:\n",
            "File \u001b[1;32m~\\AppData\\Roaming\\Python\\Python38\\site-packages\\pandas\\io\\excel\\_openpyxl.py:56\u001b[0m, in \u001b[0;36mOpenpyxlWriter.__init__\u001b[1;34m(self, path, engine, date_format, datetime_format, mode, storage_options, if_sheet_exists, engine_kwargs, **kwargs)\u001b[0m\n\u001b[0;32m     43\u001b[0m \u001b[39mdef\u001b[39;00m \u001b[39m__init__\u001b[39m(\n\u001b[0;32m     44\u001b[0m     \u001b[39mself\u001b[39m,\n\u001b[0;32m     45\u001b[0m     path: FilePath \u001b[39m|\u001b[39m WriteExcelBuffer \u001b[39m|\u001b[39m ExcelWriter,\n\u001b[1;32m   (...)\u001b[0m\n\u001b[0;32m     54\u001b[0m ) \u001b[39m-\u001b[39m\u001b[39m>\u001b[39m \u001b[39mNone\u001b[39;00m:\n\u001b[0;32m     55\u001b[0m     \u001b[39m# Use the openpyxl module as the Excel writer.\u001b[39;00m\n\u001b[1;32m---> 56\u001b[0m     \u001b[39mfrom\u001b[39;00m \u001b[39mopenpyxl\u001b[39;00m\u001b[39m.\u001b[39;00m\u001b[39mworkbook\u001b[39;00m \u001b[39mimport\u001b[39;00m Workbook\n\u001b[0;32m     58\u001b[0m     engine_kwargs \u001b[39m=\u001b[39m combine_kwargs(engine_kwargs, kwargs)\n\u001b[0;32m     60\u001b[0m     \u001b[39msuper\u001b[39m()\u001b[39m.\u001b[39m\u001b[39m__init__\u001b[39m(\n\u001b[0;32m     61\u001b[0m         path,\n\u001b[0;32m     62\u001b[0m         mode\u001b[39m=\u001b[39mmode,\n\u001b[1;32m   (...)\u001b[0m\n\u001b[0;32m     65\u001b[0m         engine_kwargs\u001b[39m=\u001b[39mengine_kwargs,\n\u001b[0;32m     66\u001b[0m     )\n",
            "\u001b[1;31mModuleNotFoundError\u001b[0m: No module named 'openpyxl'"
          ]
        }
      ],
      "source": [
        "df_qs.to_excel('QS.xlsx')"
      ]
    }
  ],
  "metadata": {
    "colab": {
      "provenance": []
    },
    "kernelspec": {
      "display_name": "Python 3.10.9 64-bit",
      "language": "python",
      "name": "python3"
    },
    "language_info": {
      "codemirror_mode": {
        "name": "ipython",
        "version": 3
      },
      "file_extension": ".py",
      "mimetype": "text/x-python",
      "name": "python",
      "nbconvert_exporter": "python",
      "pygments_lexer": "ipython3",
      "version": "3.8.6"
    },
    "vscode": {
      "interpreter": {
        "hash": "b0fa6594d8f4cbf19f97940f81e996739fb7646882a419484c72d19e05852a7e"
      }
    }
  },
  "nbformat": 4,
  "nbformat_minor": 0
}
