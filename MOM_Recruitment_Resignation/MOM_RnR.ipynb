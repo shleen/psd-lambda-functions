{
 "cells": [
  {
   "cell_type": "markdown",
   "metadata": {},
   "source": [
    "## This was used for testing (to ensure data is cleaned and written properly). For more details on what the code does refer to `Main - Workato.py`"
   ]
  },
  {
   "cell_type": "code",
   "execution_count": 8,
   "metadata": {},
   "outputs": [],
   "source": [
    "import requests\n",
    "import pandas as pd\n",
    "import datetime as dt"
   ]
  },
  {
   "cell_type": "code",
   "execution_count": 9,
   "metadata": {},
   "outputs": [],
   "source": [
    "rec_file = requests.get(\"https://stats.mom.gov.sg/iMAS_Tables1/Time-Series-Table/mrsd_25_Qtly_and_annl_tsd_on_rec_by_ind_and_occ_grp.xlsx\", allow_redirects=True)\n",
    "resg_file = requests.get(\"https://stats.mom.gov.sg/iMAS_Tables1/Time-Series-Table/mrsd_26_Qtly_and_annl_tsd_on_resgn_by_ind_and_occ_grp.xlsx\", allow_redirects=True)"
   ]
  },
  {
   "cell_type": "code",
   "execution_count": 10,
   "metadata": {},
   "outputs": [],
   "source": [
    "start_year = 2006; end_year = dt.datetime.now().year\n",
    "year_range = end_year - start_year + 1\n",
    "\n",
    "dct = {}\n",
    "\n",
    "for i in range (year_range): #year index\n",
    "    for j in range(1,5): #num quarters\n",
    "        str = f\"{j}Q\" if i == 0 else f\"{j}Q.{i}\"\n",
    "        dct[str] = f\"{start_year} {j}Q\"    \n",
    "    start_year += 1"
   ]
  },
  {
   "cell_type": "code",
   "execution_count": 4,
   "metadata": {},
   "outputs": [],
   "source": [
    "index_infocomm = 22; lst_index = [0, *range(index_infocomm, index_infocomm+3)]\n",
    "final_excel_filename = \"MOM_RnR.xlsx\"\n",
    "\n",
    "df_rec = pd.read_excel(rec_file.content, sheet_name=3, header=3).drop(columns=\"OCCUPATIONAL GROUP\").rename(columns=dct)\n",
    "df_resg = pd.read_excel(resg_file.content, sheet_name=3, header=3).drop(columns=\"OCCUPATIONAL GROUP\").rename(columns=dct)\n",
    "\n",
    "rec = df_rec.iloc[lst_index]\n",
    "resg = df_resg.iloc[lst_index]\n",
    "\n",
    "# with pd.ExcelWriter(final_excel_filename) as writer:\n",
    "#     rec.to_excel(writer, sheet_name=\"MOM Recruitment Rate\", index=False)\n",
    "#     resg.to_excel(writer, sheet_name=\"MOM Resignation Rate\", index=False)"
   ]
  },
  {
   "cell_type": "code",
   "execution_count": 12,
   "metadata": {},
   "outputs": [],
   "source": [
    "rec.to_csv(\"rec.csv\", index=False)"
   ]
  }
 ],
 "metadata": {
  "kernelspec": {
   "display_name": "venv",
   "language": "python",
   "name": "python3"
  },
  "language_info": {
   "codemirror_mode": {
    "name": "ipython",
    "version": 3
   },
   "file_extension": ".py",
   "mimetype": "text/x-python",
   "name": "python",
   "nbconvert_exporter": "python",
   "pygments_lexer": "ipython3",
   "version": "3.10.11"
  },
  "orig_nbformat": 4
 },
 "nbformat": 4,
 "nbformat_minor": 2
}
